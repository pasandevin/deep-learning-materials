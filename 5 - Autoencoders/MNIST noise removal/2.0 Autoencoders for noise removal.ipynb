{
 "cells": [
  {
   "cell_type": "code",
   "execution_count": 2,
   "metadata": {},
   "outputs": [],
   "source": [
    "from keras.datasets import mnist\n",
    "\n",
    "(train_data,e),(test_data,e)=mnist.load_data()\n",
    "\n",
    "train_data=train_data/255.0\n",
    "test_data=test_data/255.0"
   ]
  },
  {
   "cell_type": "code",
   "execution_count": 5,
   "metadata": {},
   "outputs": [],
   "source": [
    "import numpy as np\n",
    "\n",
    "train_data=train_data.reshape(train_data.shape[0],\n",
    "                              train_data.shape[1],\n",
    "                              train_data.shape[2],1)\n",
    "\n",
    "test_data=test_data.reshape(test_data.shape[0],\n",
    "                              test_data.shape[1],\n",
    "                              test_data.shape[2],1)"
   ]
  },
  {
   "cell_type": "code",
   "execution_count": 13,
   "metadata": {},
   "outputs": [],
   "source": [
    "train_data_noisy=train_data+0.5*np.random.normal(loc=0,scale=1,\n",
    "                                        size=train_data.shape)\n",
    "\n",
    "test_data_noisy=test_data+0.5*np.random.normal(loc=0,scale=1,\n",
    "                                        size=test_data.shape)\n",
    "\n",
    "#adding random noise to the digits from gaussian distribution\n",
    "\n",
    "train_data_noisy=np.clip(train_data_noisy,0,1)\n",
    "test_data_noisy=np.clip(test_data_noisy,0,1)\n",
    "\n",
    "#clipping the pixels values greater than 1 and less than 0"
   ]
  },
  {
   "cell_type": "code",
   "execution_count": 14,
   "metadata": {},
   "outputs": [
    {
     "data": {
      "text/plain": [
       "<matplotlib.image.AxesImage at 0x1e9bbd2b48>"
      ]
     },
     "execution_count": 14,
     "metadata": {},
     "output_type": "execute_result"
    },
    {
     "data": {
      "image/png": "[encoded data removed]",
      "text/plain": [
       "<Figure size 432x288 with 1 Axes>"
      ]
     },
     "metadata": {
      "needs_background": "light"
     },
     "output_type": "display_data"
    }
   ],
   "source": [
    "from matplotlib import pyplot as plt\n",
    "\n",
    "plt.imshow(test_data[0].reshape(28,28),cmap='gray')"
   ]
  },
  {
   "cell_type": "code",
   "execution_count": 15,
   "metadata": {},
   "outputs": [
    {
     "data": {
      "text/plain": [
       "<matplotlib.image.AxesImage at 0x1e9bc373c8>"
      ]
     },
     "execution_count": 15,
     "metadata": {},
     "output_type": "execute_result"
    },
    {
     "data": {
      "image/png": "[encoded data removed]",
      "text/plain": [
       "<Figure size 432x288 with 1 Axes>"
      ]
     },
     "metadata": {
      "needs_background": "light"
     },
     "output_type": "display_data"
    }
   ],
   "source": [
    "plt.imshow(test_data_noisy[0].reshape(28,28),cmap='gray')"
   ]
  },
  {
   "cell_type": "code",
   "execution_count": 20,
   "metadata": {},
   "outputs": [],
   "source": [
    "from keras.layers import Input,Dense,Conv2D,MaxPooling2D,UpSampling2D\n",
    "from keras.models import Model\n",
    "from keras import backend as K\n",
    "\n",
    "input_layer=Input(shape=train_data.shape[1:])\n",
    "\n",
    "model=Conv2D(32,(3,3),activation='relu',padding='same')(input_layer)\n",
    "model=MaxPooling2D((2,2),padding='same')(model)\n",
    "model=Conv2D(32,(3,3),activation='relu',padding='same')(model)\n",
    "\n",
    "encoder=MaxPooling2D((2,2),padding='same')(model)\n",
    "#Bottle neck/ Latent Space\n",
    "\n",
    "model=Conv2D(32,(3,3),activation='relu',padding='same')(encoder)\n",
    "model=UpSampling2D((2,2))(model) #inverse of pooling\n",
    "model=Conv2D(32,(3,3),activation='relu',padding='same')(model)\n",
    "model=UpSampling2D((2,2))(model)\n",
    "\n",
    "decoder=Conv2D(1,(3,3),activation='relu',padding='same')(model)\n",
    "\n",
    "autoencorder=Model(input_layer,decoder) #building the NN\n",
    "\n",
    "autoencorder.compile(optimizer='adam',loss='binary_crossentropy')"
   ]
  },
  {
   "cell_type": "code",
   "execution_count": null,
   "metadata": {},
   "outputs": [
    {
     "name": "stdout",
     "output_type": "stream",
     "text": [
      "Train on 54000 samples, validate on 6000 samples\n",
      "Epoch 1/100\n",
      "22080/54000 [===========>..................] - ETA: 6:37 - loss: 0.2056"
     ]
    }
   ],
   "source": [
    "history=autoencorder.fit(train_data_noisy,train_data,epochs=100,\n",
    "                         validation_split=0.1)"
   ]
  },
  {
   "cell_type": "code",
   "execution_count": null,
   "metadata": {},
   "outputs": [],
   "source": []
  }
 ],
 "metadata": {
  "kernelspec": {
   "display_name": "Python 3",
   "language": "python",
   "name": "python3"
  },
  "language_info": {
   "codemirror_mode": {
    "name": "ipython",
    "version": 3
   },
   "file_extension": ".py",
   "mimetype": "text/x-python",
   "name": "python",
   "nbconvert_exporter": "python",
   "pygments_lexer": "ipython3",
   "version": "3.8.8"
  }
 },
 "nbformat": 4,
 "nbformat_minor": 2
}
