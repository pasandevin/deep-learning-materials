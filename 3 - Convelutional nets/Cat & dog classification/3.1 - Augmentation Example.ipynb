{
 "cells": [
  {
   "cell_type": "code",
   "execution_count": 3,
   "metadata": {},
   "outputs": [],
   "source": [
    "from keras.preprocessing.image import ImageDataGenerator, array_to_img, img_to_array, load_img\n",
    "\n",
    "datagen = ImageDataGenerator(rotation_range=40,width_shift_range=0.2,height_shift_range=0.2,shear_range=0.2,\n",
    "                             zoom_range=0.2,horizontal_flip=True,fill_mode='nearest')\n",
    "\n",
    "img = load_img(r'D:\\Data_Science\\DL_Workshop\\Rewatch\\Day 05\\PetImages\\Cat\\1.jpg')  # this is a PIL image\n",
    "x = img_to_array(img)  # this is a Numpy array with shape (281, 300, 3)\n",
    "\n",
    "x = x.reshape((1,) + x.shape)  # this is a Numpy array with shape (1, 281, 300, 3)\n",
    "\n",
    "# the .flow() command below generates batches of randomly transformed images\n",
    "# and saves the results to the `preview/` directory\n",
    "i = 0\n",
    "\n",
    "for batch in datagen.flow(x, batch_size=1,save_to_dir='preview', save_prefix='cat', save_format='jpeg'):\n",
    "    \n",
    "    i += 1\n",
    "    if i > 20:\n",
    "        break  # otherwise the generator would loop indefinitely"
   ]
  },
  {
   "cell_type": "markdown",
   "metadata": {},
   "source": [
    "import numpy as np\n",
    "import cv2\n",
    "import matplotlib.pyplot as plt\n",
    "img_size=300\n",
    "from keras.preprocessing.image import ImageDataGenerator, array_to_img, img_to_array, load_img\n",
    "\n",
    "datagen = ImageDataGenerator(rotation_range=40,width_shift_range=0.2,height_shift_range=0.2,shear_range=0.2,\n",
    "                             zoom_range=0.2,horizontal_flip=True,fill_mode='nearest')\n",
    "imgs=[]\n",
    "img1 = cv2.imread(r'D:\\Data_Science\\DL_Workshop\\Rewatch\\Day 05\\PetImages\\Cat\\1.jpg')  # this is a PIL image\n",
    "img2 = cv2.imread(r'D:\\Data_Science\\DL_Workshop\\Rewatch\\Day 05\\PetImages\\Cat\\1200.jpg')\n",
    "\n",
    "#gray1=cv2.cvtColor(img1,cv2.COLOR_BGR2GRAY)\n",
    "#gray2=cv2.cvtColor(img2,cv2.COLOR_BGR2GRAY)\n",
    "\n",
    "\n",
    "\n",
    "resizedx1=cv2.resize(img1,(img_size,img_size))\n",
    "resizedx2=cv2.resize(img2,(img_size,img_size))\n",
    "\n",
    "imgs.append(resizedx1)\n",
    "imgs.append(resizedx2)\n",
    "\n",
    "\n",
    "\n",
    "imgs=np.array(imgs)\n",
    "print(imgs.shape)\n",
    "\n",
    "# the .flow() command below generates batches of randomly transformed images\n",
    "# and saves the results to the `preview/` directory\n",
    "i = 0\n",
    "\n",
    "for batch in datagen.flow(imgs, batch_size=4,save_to_dir='preview', save_prefix='cat', save_format='jpeg'):\n",
    "    print(batch)\n",
    "    i += 1\n",
    "    print('=======================')\n",
    "    if i > 20:\n",
    "        break  # otherwise the generator would loop indefinitely\n",
    "destroyAllWindows()"
   ]
  },
  {
   "cell_type": "code",
   "execution_count": null,
   "metadata": {},
   "outputs": [],
   "source": []
  }
 ],
 "metadata": {
  "kernelspec": {
   "display_name": "Python 3",
   "language": "python",
   "name": "python3"
  },
  "language_info": {
   "codemirror_mode": {
    "name": "ipython",
    "version": 3
   },
   "file_extension": ".py",
   "mimetype": "text/x-python",
   "name": "python",
   "nbconvert_exporter": "python",
   "pygments_lexer": "ipython3",
   "version": "3.8.5"
  }
 },
 "nbformat": 4,
 "nbformat_minor": 2
}
