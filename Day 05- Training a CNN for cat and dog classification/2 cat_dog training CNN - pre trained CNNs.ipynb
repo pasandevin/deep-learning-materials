{
 "cells": [
  {
   "cell_type": "code",
   "execution_count": 12,
   "metadata": {},
   "outputs": [],
   "source": [
    "import numpy as np\n",
    "\n",
    "data=np.load('data.npy')\n",
    "target=np.load('target.npy')\n",
    "\n",
    "#loading the save numpy arrays in the previous code"
   ]
  },
  {
   "cell_type": "markdown",
   "metadata": {},
   "source": [
    "### Convolutional Neural Network Architecture"
   ]
  },
  {
   "cell_type": "code",
   "execution_count": 13,
   "metadata": {},
   "outputs": [],
   "source": [
    "from keras.models import Sequential\n",
    "from keras.layers import Dense,Activation,Flatten\n",
    "from keras.layers import Conv2D,MaxPooling2D,Dropout\n",
    "\n",
    "model=Sequential()\n",
    "\n",
    "model.add(Conv2D(256,(3,3),input_shape=data.shape[1:]))\n",
    "model.add(Activation('relu'))\n",
    "model.add(MaxPooling2D(pool_size=(2,2)))\n",
    "#The first CNN layer followed by Relu and MaxPooling layers\n",
    "\n",
    "model.add(Conv2D(128,(3,3)))\n",
    "model.add(Activation('relu'))\n",
    "model.add(MaxPooling2D(pool_size=(2,2)))\n",
    "#The second convolution layer followed by Relu and MaxPooling layers\n",
    "\n",
    "model.add(Flatten())\n",
    "#Flatten layer to stack the output convolutions from second convolution layer\n",
    "model.add(Dropout(0.5))\n",
    "model.add(Dense(64,activation='relu'))\n",
    "#Dense layer of 64 neurons\n",
    "model.add(Dense(2,activation='softmax'))\n",
    "#The Final layer with two outputs for two categories\n",
    "\n",
    "model.compile(loss='categorical_crossentropy',optimizer='adam',metrics=['accuracy'])"
   ]
  },
  {
   "cell_type": "code",
   "execution_count": 14,
   "metadata": {},
   "outputs": [],
   "source": [
    "from sklearn.model_selection import train_test_split\n",
    "\n",
    "train_data,test_data,train_target,test_target=train_test_split(data,target,test_size=0.1)"
   ]
  },
  {
   "cell_type": "markdown",
   "metadata": {},
   "source": [
    "### Training the CNN for 10 epochs using train data "
   ]
  },
  {
   "cell_type": "code",
   "execution_count": 15,
   "metadata": {},
   "outputs": [
    {
     "name": "stdout",
     "output_type": "stream",
     "text": [
      "Epoch 1/10\n",
      "702/702 [==============================] - 165s 234ms/step - loss: 0.6747 - accuracy: 0.5684 - val_loss: 0.6007 - val_accuracy: 0.6802\n",
      "Epoch 2/10\n",
      "702/702 [==============================] - 168s 239ms/step - loss: 0.5865 - accuracy: 0.6901 - val_loss: 0.5667 - val_accuracy: 0.7090\n",
      "Epoch 3/10\n",
      "702/702 [==============================] - 170s 242ms/step - loss: 0.5256 - accuracy: 0.7375 - val_loss: 0.5098 - val_accuracy: 0.7547\n",
      "Epoch 4/10\n",
      "702/702 [==============================] - 172s 245ms/step - loss: 0.4849 - accuracy: 0.7653 - val_loss: 0.4785 - val_accuracy: 0.7756\n",
      "Epoch 5/10\n",
      "702/702 [==============================] - 166s 237ms/step - loss: 0.4467 - accuracy: 0.7913 - val_loss: 0.4996 - val_accuracy: 0.7631\n",
      "Epoch 6/10\n",
      "702/702 [==============================] - 168s 239ms/step - loss: 0.4184 - accuracy: 0.8043 - val_loss: 0.4417 - val_accuracy: 0.7956\n",
      "Epoch 7/10\n",
      "702/702 [==============================] - 167s 238ms/step - loss: 0.3963 - accuracy: 0.8226 - val_loss: 0.5216 - val_accuracy: 0.7575\n",
      "Epoch 8/10\n",
      "702/702 [==============================] - 168s 239ms/step - loss: 0.3620 - accuracy: 0.8345 - val_loss: 0.4214 - val_accuracy: 0.8072\n",
      "Epoch 9/10\n",
      "702/702 [==============================] - 168s 239ms/step - loss: 0.3350 - accuracy: 0.8533 - val_loss: 0.4310 - val_accuracy: 0.8028\n",
      "Epoch 10/10\n",
      "702/702 [==============================] - 167s 238ms/step - loss: 0.3115 - accuracy: 0.8645 - val_loss: 0.4323 - val_accuracy: 0.8020\n"
     ]
    }
   ],
   "source": [
    "history=model.fit(train_data,train_target,validation_data=(test_data,test_target),epochs=10)"
   ]
  },
  {
   "cell_type": "markdown",
   "metadata": {},
   "source": [
    "### Visualizing the loss and the accuracy of trained CNN"
   ]
  },
  {
   "cell_type": "code",
   "execution_count": null,
   "metadata": {},
   "outputs": [],
   "source": [
    "from matplotlib import pyplot as plt\n",
    "\n",
    "plt.plot(history.history['loss'])"
   ]
  },
  {
   "cell_type": "code",
   "execution_count": null,
   "metadata": {},
   "outputs": [],
   "source": [
    "plt.plot(history.history['accuracy'])\n",
    "#if not working replace 'accuracy' with 'acc'"
   ]
  },
  {
   "cell_type": "markdown",
   "metadata": {},
   "source": [
    "### Evaluating the CNN using testing_data\n",
    "\n",
    "This returns the loss and the accuracy of the Neural Network for Testing data"
   ]
  },
  {
   "cell_type": "code",
   "execution_count": null,
   "metadata": {},
   "outputs": [],
   "source": [
    "print(model.evaluate(test_data,test_target))"
   ]
  }
 ],
 "metadata": {
  "kernelspec": {
   "display_name": "Python 3",
   "language": "python",
   "name": "python3"
  },
  "language_info": {
   "codemirror_mode": {
    "name": "ipython",
    "version": 3
   },
   "file_extension": ".py",
   "mimetype": "text/x-python",
   "name": "python",
   "nbconvert_exporter": "python",
   "pygments_lexer": "ipython3",
   "version": "3.6.8"
  }
 },
 "nbformat": 4,
 "nbformat_minor": 2
}
