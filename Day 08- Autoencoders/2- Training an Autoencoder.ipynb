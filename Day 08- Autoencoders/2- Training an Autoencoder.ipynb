{
 "cells": [
  {
   "cell_type": "code",
   "execution_count": 1,
   "metadata": {},
   "outputs": [],
   "source": [
    "import numpy as np\n",
    "\n",
    "data=np.load('data.npy')\n",
    "target=np.load('target.npy')"
   ]
  },
  {
   "cell_type": "code",
   "execution_count": 2,
   "metadata": {},
   "outputs": [],
   "source": [
    "from sklearn.preprocessing import MinMaxScaler\n",
    "\n",
    "data_scaler=MinMaxScaler(feature_range=(0,1))\n",
    "scaled_data=data_scaler.fit_transform(data)\n",
    "\n",
    "target_scaler=MinMaxScaler(feature_range=(0,1))\n",
    "scaled_target=target_scaler.fit_transform(target)"
   ]
  },
  {
   "cell_type": "code",
   "execution_count": 3,
   "metadata": {},
   "outputs": [
    {
     "data": {
      "text/plain": [
       "['target_scaler.sav']"
      ]
     },
     "execution_count": 3,
     "metadata": {},
     "output_type": "execute_result"
    }
   ],
   "source": [
    "import joblib\n",
    "\n",
    "joblib.dump(data_scaler,'data_scaler.sav')\n",
    "joblib.dump(target_scaler,'target_scaler.sav')"
   ]
  },
  {
   "cell_type": "code",
   "execution_count": 4,
   "metadata": {},
   "outputs": [],
   "source": [
    "scaled_data=scaled_data.reshape(scaled_data.shape[0],scaled_data.shape[1],1)\n",
    "scaled_target=scaled_target.reshape(scaled_target.shape[0],scaled_target.shape[1],1)"
   ]
  },
  {
   "cell_type": "code",
   "execution_count": 5,
   "metadata": {},
   "outputs": [],
   "source": [
    "from sklearn.model_selection import train_test_split\n",
    "train_data,test_data,train_target,test_target=train_test_split(scaled_data,scaled_target,test_size=0.2)"
   ]
  },
  {
   "cell_type": "code",
   "execution_count": 6,
   "metadata": {},
   "outputs": [],
   "source": [
    "from keras.layers import Input,Dense,Conv1D,MaxPool1D,UpSampling1D\n",
    "from keras.models import Model\n",
    "from keras.callbacks import ModelCheckpoint\n",
    "\n",
    "\n",
    "input_layer=Input(shape=scaled_data.shape[1:])  \n",
    "\n",
    "model=Conv1D(32,(3),activation='relu',padding='same')(input_layer)\n",
    "model=MaxPool1D((2),padding='same')(model)\n",
    "model=Conv1D(32,(3),activation='relu',padding='same')(model)\n",
    "encoder=MaxPool1D((2),padding='same')(model)\n",
    "\n",
    "model=Conv1D(32,(3),activation='relu',padding='same')(encoder)\n",
    "model=UpSampling1D((2))(model) \n",
    "model=Conv1D(32,(3),activation='relu',padding='same')(model)\n",
    "model=UpSampling1D((2))(model) \n",
    "\n",
    "decoder=Conv1D(1,(3),activation='relu',padding='same')(model)\n",
    "\n",
    "autoencoder=Model(input_layer,decoder)\n",
    "\n",
    "autoencoder.compile(optimizer='adam',loss='mse')"
   ]
  },
  {
   "cell_type": "code",
   "execution_count": 7,
   "metadata": {},
   "outputs": [
    {
     "name": "stdout",
     "output_type": "stream",
     "text": [
      "150/150 [==============================] - 17s 70ms/step - loss: 0.0124 - val_loss: 0.0102\n",
      "INFO:tensorflow:Assets written to: models\\model-001.model\\assets\n"
     ]
    },
    {
     "data": {
      "text/plain": [
       "<tensorflow.python.keras.callbacks.History at 0x2050cc23760>"
      ]
     },
     "execution_count": 7,
     "metadata": {},
     "output_type": "execute_result"
    }
   ],
   "source": [
    "checkpoint = ModelCheckpoint('models/model-{epoch:03d}.model',monitor='val_loss',verbose=0,save_best_only=True,mode='auto')\n",
    "autoencoder.fit(train_data,train_target,epochs=100,validation_data=(test_data, test_target),callbacks=[checkpoint])"
   ]
  },
  {
   "cell_type": "code",
   "execution_count": 8,
   "metadata": {},
   "outputs": [],
   "source": [
    "np.save('test_data',test_data)\n",
    "np.save('test_target',test_target)"
   ]
  },
  {
   "cell_type": "code",
   "execution_count": null,
   "metadata": {},
   "outputs": [],
   "source": []
  }
 ],
 "metadata": {
  "kernelspec": {
   "display_name": "Python 3",
   "language": "python",
   "name": "python3"
  },
  "language_info": {
   "codemirror_mode": {
    "name": "ipython",
    "version": 3
   },
   "file_extension": ".py",
   "mimetype": "text/x-python",
   "name": "python",
   "nbconvert_exporter": "python",
   "pygments_lexer": "ipython3",
   "version": "3.8.5"
  }
 },
 "nbformat": 4,
 "nbformat_minor": 4
}
