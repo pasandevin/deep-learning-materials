{
 "cells": [
  {
   "cell_type": "code",
   "execution_count": 0,
   "metadata": {
    "colab": {},
    "colab_type": "code",
    "id": "yZOhshiPaLbK"
   },
   "outputs": [],
   "source": [
    "from keras.datasets import mnist\n",
    "import numpy as np\n",
    "\n",
    "(x_train, _), (x_test, _) = mnist.load_data()\n",
    "\n",
    "x_train = x_train.astype('float32') / 255.\n",
    "x_test = x_test.astype('float32') / 255.\n",
    "x_train = np.reshape(x_train, (len(x_train), 28, 28, 1))\n",
    "x_test = np.reshape(x_test, (len(x_test), 28, 28, 1))\n",
    "\n",
    "noise_factor = 0.5\n",
    "\n",
    "x_train_noisy = x_train + noise_factor * np.random.normal(loc=0.0, scale=1.0, size=x_train.shape)\n",
    "x_test_noisy = x_test + noise_factor * np.random.normal(loc=0.0, scale=1.0, size=x_test.shape)\n",
    "x_train_noisy = np.clip(x_train_noisy, 0., 1.)\n",
    "x_test_noisy = np.clip(x_test_noisy, 0., 1.)"
   ]
  },
  {
   "cell_type": "code",
   "execution_count": 3,
   "metadata": {
    "colab": {
     "base_uri": "https://localhost:8080/",
     "height": 282
    },
    "colab_type": "code",
    "id": "-DqtE5itaLbV",
    "outputId": "27ab01c7-adc3-4c3d-9fe2-3804723b1fde"
   },
   "outputs": [
    {
     "data": {
      "text/plain": [
       "<matplotlib.image.AxesImage at 0x7fd7623b9748>"
      ]
     },
     "execution_count": 3,
     "metadata": {
      "tags": []
     },
     "output_type": "execute_result"
    },
    {
     "data": {
      "image/png": "[encoded data removed]",
      "text/plain": [
       "<Figure size 432x288 with 1 Axes>"
      ]
     },
     "metadata": {
      "tags": []
     },
     "output_type": "display_data"
    }
   ],
   "source": [
    "from matplotlib import pyplot as plt\n",
    "\n",
    "plt.imshow(x_test[0].reshape(28,28),cmap='gray')"
   ]
  },
  {
   "cell_type": "code",
   "execution_count": 4,
   "metadata": {
    "colab": {
     "base_uri": "https://localhost:8080/",
     "height": 282
    },
    "colab_type": "code",
    "id": "oT3qByq9aLbe",
    "outputId": "895c6b39-9323-458c-bb7e-aa50e9e66edf"
   },
   "outputs": [
    {
     "data": {
      "text/plain": [
       "<matplotlib.image.AxesImage at 0x7fd761efeef0>"
      ]
     },
     "execution_count": 4,
     "metadata": {
      "tags": []
     },
     "output_type": "execute_result"
    },
    {
     "data": {
      "image/png": "[encoded data removed]",
      "text/plain": [
       "<Figure size 432x288 with 1 Axes>"
      ]
     },
     "metadata": {
      "tags": []
     },
     "output_type": "display_data"
    }
   ],
   "source": [
    "plt.imshow(x_test_noisy[0].reshape(28,28),cmap='gray')"
   ]
  },
  {
   "cell_type": "code",
   "execution_count": 5,
   "metadata": {
    "colab": {
     "base_uri": "https://localhost:8080/",
     "height": 326
    },
    "colab_type": "code",
    "id": "4OmCffF6aLbk",
    "outputId": "9622bc92-cff7-4141-9576-828ebd30b813"
   },
   "outputs": [
    {
     "name": "stdout",
     "output_type": "stream",
     "text": [
      "WARNING:tensorflow:From /usr/local/lib/python3.6/dist-packages/keras/backend/tensorflow_backend.py:66: The name tf.get_default_graph is deprecated. Please use tf.compat.v1.get_default_graph instead.\n",
      "\n",
      "WARNING:tensorflow:From /usr/local/lib/python3.6/dist-packages/keras/backend/tensorflow_backend.py:541: The name tf.placeholder is deprecated. Please use tf.compat.v1.placeholder instead.\n",
      "\n",
      "WARNING:tensorflow:From /usr/local/lib/python3.6/dist-packages/keras/backend/tensorflow_backend.py:4432: The name tf.random_uniform is deprecated. Please use tf.random.uniform instead.\n",
      "\n",
      "WARNING:tensorflow:From /usr/local/lib/python3.6/dist-packages/keras/backend/tensorflow_backend.py:4267: The name tf.nn.max_pool is deprecated. Please use tf.nn.max_pool2d instead.\n",
      "\n",
      "WARNING:tensorflow:From /usr/local/lib/python3.6/dist-packages/keras/backend/tensorflow_backend.py:2239: The name tf.image.resize_nearest_neighbor is deprecated. Please use tf.compat.v1.image.resize_nearest_neighbor instead.\n",
      "\n",
      "WARNING:tensorflow:From /usr/local/lib/python3.6/dist-packages/keras/optimizers.py:793: The name tf.train.Optimizer is deprecated. Please use tf.compat.v1.train.Optimizer instead.\n",
      "\n",
      "WARNING:tensorflow:From /usr/local/lib/python3.6/dist-packages/keras/backend/tensorflow_backend.py:3657: The name tf.log is deprecated. Please use tf.math.log instead.\n",
      "\n",
      "WARNING:tensorflow:From /usr/local/lib/python3.6/dist-packages/tensorflow_core/python/ops/nn_impl.py:183: where (from tensorflow.python.ops.array_ops) is deprecated and will be removed in a future version.\n",
      "Instructions for updating:\n",
      "Use tf.where in 2.0, which has the same broadcast rule as np.where\n"
     ]
    }
   ],
   "source": [
    "from keras.layers import Input,Dense,Conv2D,MaxPooling2D,UpSampling2D\n",
    "from keras.models import Model\n",
    "from keras import backend as K\n",
    "\n",
    "input_img = Input(shape=(28, 28, 1))\n",
    "\n",
    "x = Conv2D(32, (3, 3), activation='relu', padding='same')(input_img)\n",
    "x = MaxPooling2D((2, 2), padding='same')(x)\n",
    "x = Conv2D(32, (3, 3), activation='relu', padding='same')(x)\n",
    "encoded = MaxPooling2D((2, 2), padding='same')(x)\n",
    "\n",
    "x = Conv2D(32, (3, 3), activation='relu', padding='same')(encoded)\n",
    "x = UpSampling2D((2, 2))(x)\n",
    "x = Conv2D(32, (3, 3), activation='relu', padding='same')(x)\n",
    "x = UpSampling2D((2, 2))(x)\n",
    "decoded = Conv2D(1, (3, 3), activation='sigmoid', padding='same')(x)\n",
    "autoencoder = Model(input_img, decoded)\n",
    "autoencoder.compile(optimizer='adam', loss='binary_crossentropy')"
   ]
  },
  {
   "cell_type": "code",
   "execution_count": 6,
   "metadata": {
    "colab": {
     "base_uri": "https://localhost:8080/",
     "height": 1000
    },
    "colab_type": "code",
    "id": "HYHqbWFgaLbq",
    "outputId": "26d0ce14-3d7d-4820-db04-5f0230825650"
   },
   "outputs": [
    {
     "name": "stdout",
     "output_type": "stream",
     "text": [
      "WARNING:tensorflow:From /usr/local/lib/python3.6/dist-packages/keras/backend/tensorflow_backend.py:1033: The name tf.assign_add is deprecated. Please use tf.compat.v1.assign_add instead.\n",
      "\n",
      "WARNING:tensorflow:From /usr/local/lib/python3.6/dist-packages/keras/backend/tensorflow_backend.py:1020: The name tf.assign is deprecated. Please use tf.compat.v1.assign instead.\n",
      "\n",
      "WARNING:tensorflow:From /usr/local/lib/python3.6/dist-packages/keras/backend/tensorflow_backend.py:3005: The name tf.Session is deprecated. Please use tf.compat.v1.Session instead.\n",
      "\n",
      "Train on 54000 samples, validate on 6000 samples\n",
      "Epoch 1/100\n",
      "WARNING:tensorflow:From /usr/local/lib/python3.6/dist-packages/keras/backend/tensorflow_backend.py:190: The name tf.get_default_session is deprecated. Please use tf.compat.v1.get_default_session instead.\n",
      "\n",
      "WARNING:tensorflow:From /usr/local/lib/python3.6/dist-packages/keras/backend/tensorflow_backend.py:197: The name tf.ConfigProto is deprecated. Please use tf.compat.v1.ConfigProto instead.\n",
      "\n",
      "WARNING:tensorflow:From /usr/local/lib/python3.6/dist-packages/keras/backend/tensorflow_backend.py:207: The name tf.global_variables is deprecated. Please use tf.compat.v1.global_variables instead.\n",
      "\n",
      "WARNING:tensorflow:From /usr/local/lib/python3.6/dist-packages/keras/backend/tensorflow_backend.py:216: The name tf.is_variable_initialized is deprecated. Please use tf.compat.v1.is_variable_initialized instead.\n",
      "\n",
      "WARNING:tensorflow:From /usr/local/lib/python3.6/dist-packages/keras/backend/tensorflow_backend.py:223: The name tf.variables_initializer is deprecated. Please use tf.compat.v1.variables_initializer instead.\n",
      "\n",
      "54000/54000 [==============================] - 25s 470us/step - loss: 0.1281 - val_loss: 0.1080\n",
      "Epoch 2/100\n",
      "54000/54000 [==============================] - 10s 181us/step - loss: 0.1040 - val_loss: 0.1025\n",
      "Epoch 3/100\n",
      "54000/54000 [==============================] - 10s 182us/step - loss: 0.1003 - val_loss: 0.0999\n",
      "Epoch 4/100\n",
      "54000/54000 [==============================] - 10s 176us/step - loss: 0.0984 - val_loss: 0.0989\n",
      "Epoch 5/100\n",
      "54000/54000 [==============================] - 9s 176us/step - loss: 0.0972 - val_loss: 0.0982\n",
      "Epoch 6/100\n",
      "54000/54000 [==============================] - 9s 170us/step - loss: 0.0965 - val_loss: 0.0973\n",
      "Epoch 7/100\n",
      "54000/54000 [==============================] - 9s 173us/step - loss: 0.0960 - val_loss: 0.0972\n",
      "Epoch 8/100\n",
      "54000/54000 [==============================] - 10s 182us/step - loss: 0.0956 - val_loss: 0.0964\n",
      "Epoch 9/100\n",
      "54000/54000 [==============================] - 11s 197us/step - loss: 0.0953 - val_loss: 0.0965\n",
      "Epoch 10/100\n",
      "54000/54000 [==============================] - 10s 183us/step - loss: 0.0951 - val_loss: 0.0966\n",
      "Epoch 11/100\n",
      "54000/54000 [==============================] - 10s 193us/step - loss: 0.0949 - val_loss: 0.0961\n",
      "Epoch 12/100\n",
      "54000/54000 [==============================] - 10s 184us/step - loss: 0.0947 - val_loss: 0.0963\n",
      "Epoch 13/100\n",
      "54000/54000 [==============================] - 10s 184us/step - loss: 0.0946 - val_loss: 0.0959\n",
      "Epoch 14/100\n",
      "54000/54000 [==============================] - 10s 187us/step - loss: 0.0945 - val_loss: 0.0960\n",
      "Epoch 15/100\n",
      "54000/54000 [==============================] - 10s 193us/step - loss: 0.0944 - val_loss: 0.0954\n",
      "Epoch 16/100\n",
      "54000/54000 [==============================] - 10s 186us/step - loss: 0.0943 - val_loss: 0.0958\n",
      "Epoch 17/100\n",
      "54000/54000 [==============================] - 10s 188us/step - loss: 0.0942 - val_loss: 0.0954\n",
      "Epoch 18/100\n",
      "54000/54000 [==============================] - 9s 174us/step - loss: 0.0942 - val_loss: 0.0957\n",
      "Epoch 19/100\n",
      "54000/54000 [==============================] - 9s 172us/step - loss: 0.0941 - val_loss: 0.0952\n",
      "Epoch 20/100\n",
      "54000/54000 [==============================] - 10s 181us/step - loss: 0.0940 - val_loss: 0.0951\n",
      "Epoch 21/100\n",
      "54000/54000 [==============================] - 10s 191us/step - loss: 0.0940 - val_loss: 0.0952\n",
      "Epoch 22/100\n",
      "54000/54000 [==============================] - 10s 186us/step - loss: 0.0939 - val_loss: 0.0956\n",
      "Epoch 23/100\n",
      "54000/54000 [==============================] - 10s 176us/step - loss: 0.0939 - val_loss: 0.0949\n",
      "Epoch 24/100\n",
      "54000/54000 [==============================] - 10s 177us/step - loss: 0.0938 - val_loss: 0.0952\n",
      "Epoch 25/100\n",
      "54000/54000 [==============================] - 10s 180us/step - loss: 0.0938 - val_loss: 0.0951\n",
      "Epoch 26/100\n",
      "54000/54000 [==============================] - 10s 187us/step - loss: 0.0938 - val_loss: 0.0950\n",
      "Epoch 27/100\n",
      "54000/54000 [==============================] - 10s 189us/step - loss: 0.0937 - val_loss: 0.0953\n",
      "Epoch 28/100\n",
      "54000/54000 [==============================] - 10s 180us/step - loss: 0.0937 - val_loss: 0.0952\n",
      "Epoch 29/100\n",
      "54000/54000 [==============================] - 10s 183us/step - loss: 0.0937 - val_loss: 0.0950\n",
      "Epoch 30/100\n",
      "54000/54000 [==============================] - 10s 181us/step - loss: 0.0936 - val_loss: 0.0950\n",
      "Epoch 31/100\n",
      "54000/54000 [==============================] - 10s 178us/step - loss: 0.0936 - val_loss: 0.0952\n",
      "Epoch 32/100\n",
      "54000/54000 [==============================] - 10s 177us/step - loss: 0.0936 - val_loss: 0.0950\n",
      "Epoch 33/100\n",
      "54000/54000 [==============================] - 10s 185us/step - loss: 0.0936 - val_loss: 0.0950\n",
      "Epoch 34/100\n",
      "54000/54000 [==============================] - 9s 176us/step - loss: 0.0935 - val_loss: 0.0950\n",
      "Epoch 35/100\n",
      "54000/54000 [==============================] - 10s 181us/step - loss: 0.0935 - val_loss: 0.0953\n",
      "Epoch 36/100\n",
      "54000/54000 [==============================] - 10s 176us/step - loss: 0.0935 - val_loss: 0.0952\n",
      "Epoch 37/100\n",
      "54000/54000 [==============================] - 10s 180us/step - loss: 0.0935 - val_loss: 0.0954\n",
      "Epoch 38/100\n",
      "54000/54000 [==============================] - 9s 168us/step - loss: 0.0935 - val_loss: 0.0950\n",
      "Epoch 39/100\n",
      "54000/54000 [==============================] - 10s 179us/step - loss: 0.0934 - val_loss: 0.0952\n",
      "Epoch 40/100\n",
      "54000/54000 [==============================] - 10s 182us/step - loss: 0.0934 - val_loss: 0.0950\n",
      "Epoch 41/100\n",
      "54000/54000 [==============================] - 9s 173us/step - loss: 0.0934 - val_loss: 0.0954\n",
      "Epoch 42/100\n",
      "54000/54000 [==============================] - 10s 179us/step - loss: 0.0934 - val_loss: 0.0947\n",
      "Epoch 43/100\n",
      "54000/54000 [==============================] - 10s 181us/step - loss: 0.0933 - val_loss: 0.0948\n",
      "Epoch 44/100\n",
      "54000/54000 [==============================] - 9s 176us/step - loss: 0.0934 - val_loss: 0.0946\n",
      "Epoch 45/100\n",
      "54000/54000 [==============================] - 10s 183us/step - loss: 0.0934 - val_loss: 0.0947\n",
      "Epoch 46/100\n",
      "54000/54000 [==============================] - 10s 181us/step - loss: 0.0933 - val_loss: 0.0946\n",
      "Epoch 47/100\n",
      "54000/54000 [==============================] - 10s 179us/step - loss: 0.0933 - val_loss: 0.0946\n",
      "Epoch 48/100\n",
      "54000/54000 [==============================] - 10s 182us/step - loss: 0.0933 - val_loss: 0.0947\n",
      "Epoch 49/100\n",
      "54000/54000 [==============================] - 9s 174us/step - loss: 0.0933 - val_loss: 0.0948\n",
      "Epoch 50/100\n",
      "54000/54000 [==============================] - 9s 170us/step - loss: 0.0933 - val_loss: 0.0946\n",
      "Epoch 51/100\n",
      "54000/54000 [==============================] - 10s 179us/step - loss: 0.0933 - val_loss: 0.0947\n",
      "Epoch 52/100\n",
      "54000/54000 [==============================] - 10s 189us/step - loss: 0.0932 - val_loss: 0.0950\n",
      "Epoch 53/100\n",
      "54000/54000 [==============================] - 9s 173us/step - loss: 0.0932 - val_loss: 0.0948\n",
      "Epoch 54/100\n",
      "54000/54000 [==============================] - 9s 176us/step - loss: 0.0932 - val_loss: 0.0948\n",
      "Epoch 55/100\n",
      "54000/54000 [==============================] - 10s 177us/step - loss: 0.0932 - val_loss: 0.0944\n",
      "Epoch 56/100\n",
      "54000/54000 [==============================] - 9s 170us/step - loss: 0.0932 - val_loss: 0.0946\n",
      "Epoch 57/100\n",
      "54000/54000 [==============================] - 10s 180us/step - loss: 0.0932 - val_loss: 0.0948\n",
      "Epoch 58/100\n",
      "54000/54000 [==============================] - 10s 189us/step - loss: 0.0932 - val_loss: 0.0945\n",
      "Epoch 59/100\n",
      "54000/54000 [==============================] - 9s 173us/step - loss: 0.0932 - val_loss: 0.0967\n",
      "Epoch 60/100\n",
      "54000/54000 [==============================] - 9s 173us/step - loss: 0.0931 - val_loss: 0.0945\n",
      "Epoch 61/100\n",
      "54000/54000 [==============================] - 9s 171us/step - loss: 0.0931 - val_loss: 0.0947\n",
      "Epoch 62/100\n",
      "54000/54000 [==============================] - 9s 169us/step - loss: 0.0931 - val_loss: 0.0945\n",
      "Epoch 63/100\n",
      "54000/54000 [==============================] - 9s 175us/step - loss: 0.0931 - val_loss: 0.0946\n",
      "Epoch 64/100\n",
      "54000/54000 [==============================] - 10s 181us/step - loss: 0.0931 - val_loss: 0.0944\n",
      "Epoch 65/100\n",
      "54000/54000 [==============================] - 10s 180us/step - loss: 0.0931 - val_loss: 0.0945\n",
      "Epoch 66/100\n",
      "54000/54000 [==============================] - 9s 171us/step - loss: 0.0931 - val_loss: 0.0946\n",
      "Epoch 67/100\n",
      "54000/54000 [==============================] - 9s 172us/step - loss: 0.0931 - val_loss: 0.0947\n",
      "Epoch 68/100\n",
      "54000/54000 [==============================] - 9s 165us/step - loss: 0.0931 - val_loss: 0.0944\n",
      "Epoch 69/100\n",
      "54000/54000 [==============================] - 9s 167us/step - loss: 0.0930 - val_loss: 0.0944\n",
      "Epoch 70/100\n",
      "54000/54000 [==============================] - 10s 176us/step - loss: 0.0930 - val_loss: 0.0948\n",
      "Epoch 71/100\n",
      "54000/54000 [==============================] - 10s 187us/step - loss: 0.0930 - val_loss: 0.0947\n",
      "Epoch 72/100\n",
      "54000/54000 [==============================] - 9s 175us/step - loss: 0.0930 - val_loss: 0.0945\n",
      "Epoch 73/100\n",
      "54000/54000 [==============================] - 9s 170us/step - loss: 0.0930 - val_loss: 0.0944\n",
      "Epoch 74/100\n",
      "54000/54000 [==============================] - 9s 174us/step - loss: 0.0930 - val_loss: 0.0946\n",
      "Epoch 75/100\n",
      "54000/54000 [==============================] - 10s 178us/step - loss: 0.0930 - val_loss: 0.0947\n",
      "Epoch 76/100\n",
      "54000/54000 [==============================] - 9s 176us/step - loss: 0.0930 - val_loss: 0.0944\n",
      "Epoch 77/100\n",
      "54000/54000 [==============================] - 10s 192us/step - loss: 0.0930 - val_loss: 0.0944\n",
      "Epoch 78/100\n",
      "54000/54000 [==============================] - 10s 193us/step - loss: 0.0930 - val_loss: 0.0946\n",
      "Epoch 79/100\n",
      "54000/54000 [==============================] - 9s 175us/step - loss: 0.0930 - val_loss: 0.0944\n",
      "Epoch 80/100\n",
      "54000/54000 [==============================] - 9s 173us/step - loss: 0.0930 - val_loss: 0.0943\n",
      "Epoch 81/100\n",
      "54000/54000 [==============================] - 9s 169us/step - loss: 0.0929 - val_loss: 0.0945\n",
      "Epoch 82/100\n",
      "54000/54000 [==============================] - 9s 170us/step - loss: 0.0930 - val_loss: 0.0945\n",
      "Epoch 83/100\n",
      "54000/54000 [==============================] - 10s 181us/step - loss: 0.0929 - val_loss: 0.0945\n",
      "Epoch 84/100\n",
      "54000/54000 [==============================] - 10s 181us/step - loss: 0.0929 - val_loss: 0.0943\n",
      "Epoch 85/100\n",
      "54000/54000 [==============================] - 9s 173us/step - loss: 0.0929 - val_loss: 0.0944\n",
      "Epoch 86/100\n",
      "54000/54000 [==============================] - 9s 175us/step - loss: 0.0929 - val_loss: 0.0945\n",
      "Epoch 87/100\n",
      "54000/54000 [==============================] - 10s 176us/step - loss: 0.0929 - val_loss: 0.0945\n",
      "Epoch 88/100\n",
      "54000/54000 [==============================] - 9s 169us/step - loss: 0.0929 - val_loss: 0.0943\n",
      "Epoch 89/100\n",
      "54000/54000 [==============================] - 10s 178us/step - loss: 0.0929 - val_loss: 0.0944\n",
      "Epoch 90/100\n",
      "54000/54000 [==============================] - 10s 180us/step - loss: 0.0929 - val_loss: 0.0943\n",
      "Epoch 91/100\n",
      "54000/54000 [==============================] - 9s 171us/step - loss: 0.0929 - val_loss: 0.0949\n",
      "Epoch 92/100\n",
      "54000/54000 [==============================] - 9s 173us/step - loss: 0.0929 - val_loss: 0.0947\n",
      "Epoch 93/100\n",
      "54000/54000 [==============================] - 9s 170us/step - loss: 0.0929 - val_loss: 0.0944\n",
      "Epoch 94/100\n",
      "54000/54000 [==============================] - 9s 166us/step - loss: 0.0929 - val_loss: 0.0948\n",
      "Epoch 95/100\n",
      "54000/54000 [==============================] - 9s 171us/step - loss: 0.0929 - val_loss: 0.0944\n",
      "Epoch 96/100\n",
      "54000/54000 [==============================] - 10s 181us/step - loss: 0.0929 - val_loss: 0.0943\n",
      "Epoch 97/100\n",
      "54000/54000 [==============================] - 9s 172us/step - loss: 0.0929 - val_loss: 0.0944\n",
      "Epoch 98/100\n",
      "54000/54000 [==============================] - 9s 173us/step - loss: 0.0929 - val_loss: 0.0944\n",
      "Epoch 99/100\n",
      "54000/54000 [==============================] - 9s 170us/step - loss: 0.0928 - val_loss: 0.0944\n",
      "Epoch 100/100\n",
      "54000/54000 [==============================] - 9s 165us/step - loss: 0.0929 - val_loss: 0.0945\n"
     ]
    }
   ],
   "source": [
    "history=autoencoder.fit(x_train_noisy, x_train,\n",
    "epochs=100,\n",
    "validation_split=0.1,\n",
    ")"
   ]
  },
  {
   "cell_type": "code",
   "execution_count": 7,
   "metadata": {
    "colab": {
     "base_uri": "https://localhost:8080/",
     "height": 282
    },
    "colab_type": "code",
    "id": "sx5qGgDyaLbw",
    "outputId": "17a6afce-20db-4e01-9fb7-61cc7def4578"
   },
   "outputs": [
    {
     "data": {
      "text/plain": [
       "[<matplotlib.lines.Line2D at 0x7fd76148a208>]"
      ]
     },
     "execution_count": 7,
     "metadata": {
      "tags": []
     },
     "output_type": "execute_result"
    },
    {
     "data": {
      "image/png": "[encoded data removed]",
      "text/plain": [
       "<Figure size 432x288 with 1 Axes>"
      ]
     },
     "metadata": {
      "tags": []
     },
     "output_type": "display_data"
    }
   ],
   "source": [
    "from matplotlib import pyplot as plt\n",
    "\n",
    "plt.plot(history.history['loss'],'r',label='loss')\n",
    "plt.plot(history.history['val_loss'],'b',label='loss')"
   ]
  },
  {
   "cell_type": "code",
   "execution_count": 0,
   "metadata": {
    "colab": {},
    "colab_type": "code",
    "id": "3cW7AaH_zbLg"
   },
   "outputs": [],
   "source": [
    "autoencoder.save_weights('autoencorders_noise_removal.h5')"
   ]
  }
 ],
 "metadata": {
  "accelerator": "GPU",
  "colab": {
   "name": "2.1 Autoencoders for noise removal - Colab.ipynb",
   "provenance": []
  },
  "kernelspec": {
   "display_name": "Python 3",
   "language": "python",
   "name": "python3"
  },
  "language_info": {
   "codemirror_mode": {
    "name": "ipython",
    "version": 3
   },
   "file_extension": ".py",
   "mimetype": "text/x-python",
   "name": "python",
   "nbconvert_exporter": "python",
   "pygments_lexer": "ipython3",
   "version": "3.8.5"
  }
 },
 "nbformat": 4,
 "nbformat_minor": 1
}
